{
 "cells": [
  {
   "cell_type": "code",
   "execution_count": 1,
   "metadata": {},
   "outputs": [],
   "source": [
    "import pandas as pd\n",
    "import numpy as np\n",
    "import matplotlib.pyplot as plt\n",
    "import seaborn as sns\n",
    "from sklearn.model_selection import train_test_split\n",
    "from sklearn.linear_model import LinearRegression\n",
    "from sklearn.metrics import mean_absolute_error, mean_squared_error, r2_score"
   ]
  },
  {
   "cell_type": "code",
   "execution_count": 2,
   "metadata": {},
   "outputs": [],
   "source": [
    "\n",
    "\n",
    "# Load dataset\n",
    "df = pd.read_csv('C:\\\\Users\\\\LENOVO\\\\Desktop\\\\ipl prediction\\\\ipl.csv')"
   ]
  },
  {
   "cell_type": "code",
   "execution_count": 3,
   "metadata": {},
   "outputs": [
    {
     "data": {
      "text/html": [
       "<div>\n",
       "<style scoped>\n",
       "    .dataframe tbody tr th:only-of-type {\n",
       "        vertical-align: middle;\n",
       "    }\n",
       "\n",
       "    .dataframe tbody tr th {\n",
       "        vertical-align: top;\n",
       "    }\n",
       "\n",
       "    .dataframe thead th {\n",
       "        text-align: right;\n",
       "    }\n",
       "</style>\n",
       "<table border=\"1\" class=\"dataframe\">\n",
       "  <thead>\n",
       "    <tr style=\"text-align: right;\">\n",
       "      <th></th>\n",
       "      <th>match_id</th>\n",
       "      <th>innings</th>\n",
       "      <th>venue</th>\n",
       "      <th>batting_team</th>\n",
       "      <th>bowling_team</th>\n",
       "      <th>Totalruns</th>\n",
       "      <th>batsmen</th>\n",
       "      <th>bowlers</th>\n",
       "    </tr>\n",
       "  </thead>\n",
       "  <tbody>\n",
       "    <tr>\n",
       "      <th>0</th>\n",
       "      <td>335982</td>\n",
       "      <td>1</td>\n",
       "      <td>M Chinnaswamy Stadium</td>\n",
       "      <td>Kolkata Knight Riders</td>\n",
       "      <td>Royal Challengers Bangalore</td>\n",
       "      <td>61</td>\n",
       "      <td>['SC Ganguly' 'BB McCullum' 'RT Ponting']</td>\n",
       "      <td>['P Kumar' 'Z Khan' 'AA Noffke']</td>\n",
       "    </tr>\n",
       "    <tr>\n",
       "      <th>1</th>\n",
       "      <td>335982</td>\n",
       "      <td>2</td>\n",
       "      <td>M Chinnaswamy Stadium</td>\n",
       "      <td>Royal Challengers Bangalore</td>\n",
       "      <td>Kolkata Knight Riders</td>\n",
       "      <td>26</td>\n",
       "      <td>['R Dravid' 'W Jaffer' 'V Kohli' 'JH Kallis' '...</td>\n",
       "      <td>['AB Dinda' 'I Sharma' 'AB Agarkar']</td>\n",
       "    </tr>\n",
       "    <tr>\n",
       "      <th>2</th>\n",
       "      <td>335983</td>\n",
       "      <td>1</td>\n",
       "      <td>Punjab Cricket Association Stadium, Mohali</td>\n",
       "      <td>Chennai Super Kings</td>\n",
       "      <td>Kings XI Punjab</td>\n",
       "      <td>53</td>\n",
       "      <td>['PA Patel' 'ML Hayden' 'MEK Hussey']</td>\n",
       "      <td>['B Lee' 'S Sreesanth' 'JR Hopes']</td>\n",
       "    </tr>\n",
       "    <tr>\n",
       "      <th>3</th>\n",
       "      <td>335983</td>\n",
       "      <td>2</td>\n",
       "      <td>Punjab Cricket Association Stadium, Mohali</td>\n",
       "      <td>Kings XI Punjab</td>\n",
       "      <td>Chennai Super Kings</td>\n",
       "      <td>63</td>\n",
       "      <td>['K Goel' 'JR Hopes']</td>\n",
       "      <td>['JDP Oram' 'MS Gony']</td>\n",
       "    </tr>\n",
       "    <tr>\n",
       "      <th>4</th>\n",
       "      <td>335984</td>\n",
       "      <td>1</td>\n",
       "      <td>Feroz Shah Kotla</td>\n",
       "      <td>Rajasthan Royals</td>\n",
       "      <td>Delhi Daredevils</td>\n",
       "      <td>40</td>\n",
       "      <td>['T Kohli' 'YK Pathan' 'SR Watson' 'M Kaif']</td>\n",
       "      <td>['GD McGrath' 'B Geeves' 'MF Maharoof']</td>\n",
       "    </tr>\n",
       "  </tbody>\n",
       "</table>\n",
       "</div>"
      ],
      "text/plain": [
       "   match_id  innings                                       venue  \\\n",
       "0    335982        1                       M Chinnaswamy Stadium   \n",
       "1    335982        2                       M Chinnaswamy Stadium   \n",
       "2    335983        1  Punjab Cricket Association Stadium, Mohali   \n",
       "3    335983        2  Punjab Cricket Association Stadium, Mohali   \n",
       "4    335984        1                            Feroz Shah Kotla   \n",
       "\n",
       "                  batting_team                 bowling_team  Totalruns  \\\n",
       "0        Kolkata Knight Riders  Royal Challengers Bangalore         61   \n",
       "1  Royal Challengers Bangalore        Kolkata Knight Riders         26   \n",
       "2          Chennai Super Kings              Kings XI Punjab         53   \n",
       "3              Kings XI Punjab          Chennai Super Kings         63   \n",
       "4             Rajasthan Royals             Delhi Daredevils         40   \n",
       "\n",
       "                                             batsmen  \\\n",
       "0          ['SC Ganguly' 'BB McCullum' 'RT Ponting']   \n",
       "1  ['R Dravid' 'W Jaffer' 'V Kohli' 'JH Kallis' '...   \n",
       "2              ['PA Patel' 'ML Hayden' 'MEK Hussey']   \n",
       "3                              ['K Goel' 'JR Hopes']   \n",
       "4       ['T Kohli' 'YK Pathan' 'SR Watson' 'M Kaif']   \n",
       "\n",
       "                                   bowlers  \n",
       "0         ['P Kumar' 'Z Khan' 'AA Noffke']  \n",
       "1     ['AB Dinda' 'I Sharma' 'AB Agarkar']  \n",
       "2       ['B Lee' 'S Sreesanth' 'JR Hopes']  \n",
       "3                   ['JDP Oram' 'MS Gony']  \n",
       "4  ['GD McGrath' 'B Geeves' 'MF Maharoof']  "
      ]
     },
     "execution_count": 3,
     "metadata": {},
     "output_type": "execute_result"
    }
   ],
   "source": [
    "# Display first few rows\n",
    "df.head()"
   ]
  },
  {
   "cell_type": "code",
   "execution_count": 4,
   "metadata": {},
   "outputs": [],
   "source": [
    "# Data Cleaning\n",
    "df.dropna(inplace=True)  # Handling missing values\n",
    "df.drop_duplicates(inplace=True)  # Removing duplicates"
   ]
  },
  {
   "cell_type": "code",
   "execution_count": 5,
   "metadata": {},
   "outputs": [
    {
     "name": "stdout",
     "output_type": "stream",
     "text": [
      "Index(['match_id', 'innings', 'venue', 'batting_team', 'bowling_team',\n",
      "       'Totalruns', 'batsmen', 'bowlers'],\n",
      "      dtype='object')\n"
     ]
    }
   ],
   "source": [
    "print(df.columns)"
   ]
  },
  {
   "cell_type": "code",
   "execution_count": 6,
   "metadata": {},
   "outputs": [],
   "source": [
    "# Feature Engineering\n",
    "df['player_avg'] = df.groupby('batsmen')['Totalruns'].transform('mean')\n",
    "df['venue_avg'] = df.groupby('venue')['Totalruns'].transform('mean')\n"
   ]
  },
  {
   "cell_type": "code",
   "execution_count": 7,
   "metadata": {},
   "outputs": [],
   "source": [
    "# Save cleaned data\n",
    "df.to_csv('C:\\\\Users\\\\LENOVO\\\\Desktop\\\\ipl prediction\\\\cleaned_ipl.csv', index=False)"
   ]
  }
 ],
 "metadata": {
  "kernelspec": {
   "display_name": "Python 3",
   "language": "python",
   "name": "python3"
  },
  "language_info": {
   "codemirror_mode": {
    "name": "ipython",
    "version": 3
   },
   "file_extension": ".py",
   "mimetype": "text/x-python",
   "name": "python",
   "nbconvert_exporter": "python",
   "pygments_lexer": "ipython3",
   "version": "3.12.3"
  }
 },
 "nbformat": 4,
 "nbformat_minor": 2
}
